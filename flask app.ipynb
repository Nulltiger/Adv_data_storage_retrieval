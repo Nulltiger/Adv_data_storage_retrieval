{
 "cells": [
  {
   "cell_type": "code",
   "execution_count": 1,
   "metadata": {},
   "outputs": [],
   "source": [
    "import datetime as dt\n",
    "import numpy as np\n",
    "import pandas as pd\n",
    "\n",
    "import sqlalchemy\n",
    "from sqlalchemy.ext.automap import automap_base\n",
    "from sqlalchemy.orm import Session\n",
    "from sqlalchemy import create_engine, func\n",
    "\n",
    "from flask import Flask, jsonify"
   ]
  },
  {
   "cell_type": "code",
   "execution_count": 2,
   "metadata": {},
   "outputs": [],
   "source": [
    "#################################################\n",
    "# Database Setup\n",
    "#################################################\n",
    "engine = create_engine(\"sqlite:///Resources/hawaii.sqlite\")\n",
    "\n",
    "# reflect an existing database into a new model\n",
    "Base = automap_base()\n",
    "# reflect the tables\n",
    "Base.prepare(engine, reflect=True)\n",
    "\n",
    "# Save reference to the table\n",
    "Measurement = Base.classes.measurement\n",
    "Station = Base.classes.station\n",
    "\n",
    "# Create our session (link) from Python to the DB\n",
    "session = Session(engine)"
   ]
  },
  {
   "cell_type": "code",
   "execution_count": 3,
   "metadata": {},
   "outputs": [],
   "source": [
    "# Function to calucate date range (Last date present in the database and previous year date)\n",
    "def date_calc():\n",
    "    #Retreive the latest date present in the database\n",
    "    Latest_date = session.query(func.max(Measurement.date)).all()\n",
    "   \n",
    "    #Calculating 1 year date range\n",
    "    today = dt.date.today()\n",
    "    #Format the latest date in date format\n",
    "    Lastest_date_datefmt = today.replace(year=int(Latest_date[0][0][:4]),\\\n",
    "                                        month=int(Latest_date[0][0][5:7]),\\\n",
    "                                        day=int(Latest_date[0][0][8:]))\n",
    "    \n",
    "    # Calculate the date 1 year ago from the latest_date\n",
    "    One_Year_backdate = Lastest_date_datefmt-dt.timedelta(days=365)\n",
    "    \n",
    "    This_Year_End_Date = Lastest_date_datefmt.strftime(\"%Y-%m-%d\")\n",
    "    Previous_Year_Start_Date = One_Year_backdate.strftime(\"%Y-%m-%d\")\n",
    "    \n",
    "    Year_list = [Previous_Year_Start_Date,This_Year_End_Date]\n",
    "    return(tuple(Year_list))"
   ]
  },
  {
   "cell_type": "code",
   "execution_count": 4,
   "metadata": {},
   "outputs": [],
   "source": [
    "#################################################\n",
    "# Flask Setup\n",
    "#################################################\n",
    "app = Flask(__name__)"
   ]
  },
  {
   "cell_type": "code",
   "execution_count": 5,
   "metadata": {},
   "outputs": [],
   "source": [
    "#################################################\n",
    "# Flask Routes\n",
    "#################################################\n",
    "@app.route(\"/\")\n",
    "def welcome():\n",
    "    \"\"\"List all available api routes.\"\"\"\n",
    "    return(\n",
    "        f\"Note: Paste the routes in the browsing after the default link<br/>\"\n",
    "        f\"Available Routes Below:<br/>\"\n",
    "        f\"<br/>\"\n",
    "        f\"/api/v1.0/precipitation<br/>\"\n",
    "        f\"<br/>\"\n",
    "        f\"/api/v1.0/stations<br/>\"\n",
    "        f\"<br/>\"\n",
    "        f\"/api/v1.0/tobs<br/>\"\n",
    "        f\"<br/>\"\n",
    "        f\"/api/v1.0/<start><br/>\"\n",
    "        f\"Put the start date in 'YYYY-MM-DD' format<br/>\"\n",
    "        f\"<br/>\"\n",
    "        f\"/api/v1.0/<start>/<end><br/>\"   \n",
    "        f\"Put the dates in 'YYYY-MM-DD/YYYY-MM-DD' format<br/>\"\n",
    "        )  \n",
    "\n",
    "@app.route(\"/api/v1.0/precipitation\")\n",
    "def precipitation():\n",
    "    \"\"\"\n",
    "        Query for the dates and temperature observations from the last year.\n",
    "        Convert the query results to a Dictionary using date as the key and tobs as the value.\n",
    "        Return the JSON representation of your dictionary.\n",
    "        \n",
    "        Important Notes: Instead of tobs, performing the query for prcp as the route states \"precipitation\".\n",
    "                        Returning list of dictionaries.\n",
    "                        Also, to make it more clear, I am adding the station id.\n",
    "    \"\"\"\n",
    "    # Calling date_calc function to get the start & end date of the previous year\n",
    "    Range = date_calc()\n",
    "    End_date = Range[1]\n",
    "    Start_date = Range[0]\n",
    "    # Query for the dates and temperature observations from the last year.\n",
    "    results = session.query(Measurement.date, Measurement.station,Measurement.prcp).\\\n",
    "                                       filter(Measurement.date <= End_date).\\\n",
    "                                       filter(Measurement.date >= Start_date).all()                                                                  \n",
    "    list = []\n",
    "    for result in results:\n",
    "        dict = {\"Date\":result[0],\"Station\":result[1],\"Precipitation\":result[2]}\n",
    "        list.append(dict)\n",
    "    return jsonify(list)\n",
    "\n",
    "@app.route(\"/api/v1.0/stations\")\n",
    "def stations():\n",
    "    \"\"\" Return a JSON list of stations from the dataset in the form of dictionary.\n",
    "        Note: returning a JSON list of dictionaries instead of just list.\n",
    "    \"\"\"    \n",
    "    stations = session.query(Station.station,Station.name).all()\n",
    "    \n",
    "    list=[]\n",
    "    for station in stations:\n",
    "        dict = {\"Station ID:\":stations[0],\"Station Name\":stations[1]}\n",
    "        list.append(dict)\n",
    "\n",
    "    return jsonify(list)\n",
    "\n",
    "@app.route(\"/api/v1.0/tobs\")\n",
    "def tobs():\n",
    "    \"\"\" Return a JSON list of Temperature Observations (tobs) for the previous year.\"\"\"  \n",
    "    Range = date_calc()\n",
    "    End_date = Range[1]\n",
    "    Start_date = Range[0]\n",
    "    tobs = session.query(Measurement.date,Measurement.tobs).\\\n",
    "                            filter(Measurement.date <= End_date).\\\n",
    "                            filter(Measurement.date >= Start_date).all()\n",
    "    list = []\n",
    "    for temp in tobs:\n",
    "        dict = {\"date\": temp[0], \"tobs\": temp[1]}\n",
    "        list.append(dict)\n",
    "\n",
    "    return jsonify(list)  \n",
    "\n",
    "\"\"\" Return a JSON list of the minimum temperature, the average temperature, and the max temperature for a given start or start-end range.\n",
    "    Note: returning dictionary instead of list\"\"\"\n",
    "@app.route(\"/api/v1.0/<start>\")\n",
    "def tstart(start):\n",
    "    \"\"\" When given the start only, calculate `TMIN`, `TAVG`, and `TMAX` for all dates greater than and equal to the start date.\"\"\"\n",
    "    results = session.query(func.min(Measurement.tobs), func.avg(Measurement.tobs), func.max(Measurement.tobs)).\\\n",
    "              filter(Measurement.date >= start).order_by(Measurement.date.desc()).all()\n",
    "    #list = []\n",
    "    print(f\"Temperature Analysis for the dates greater than or equal to the start date\")\n",
    "    for temps in results:\n",
    "        dict = {\"Minimum Temp\":results[0][0],\"Average Temp\":results[0][1],\"Maximum Temp\":results[0][2]}\n",
    "        #list.append(dict)\n",
    "    return jsonify(dict) \n",
    "\n",
    "@app.route(\"/api/v1.0/<start>/<end>\")\n",
    "def tstartend(start,end):         \n",
    "    \"\"\" When given the start and the end date, calculate the `TMIN`, `TAVG`, and `TMAX` for dates between the start and end date inclusive. \"\"\"    \n",
    "    results = session.query(func.min(Measurement.tobs), func.avg(Measurement.tobs),func.max(Measurement.tobs)).\\\n",
    "                  filter(Measurement.date >= start, Measurement.date <= end).order_by(Measurement.date.desc()).all()\n",
    "    print(f\"Temperature Analysis for the dates greater than or equal to the start date and lesser than or equal to the end date\")\n",
    "    for temps in results:\n",
    "        dict = {\"Minimum Temp\":results[0][0],\"Average Temp\":results[0][1],\"Maximum Temp\":results[0][2]}\n",
    "    return jsonify(dict)   "
   ]
  },
  {
   "cell_type": "code",
   "execution_count": 6,
   "metadata": {},
   "outputs": [
    {
     "name": "stderr",
     "output_type": "stream",
     "text": [
      " * Restarting with stat\n"
     ]
    },
    {
     "ename": "SystemExit",
     "evalue": "1",
     "output_type": "error",
     "traceback": [
      "An exception has occurred, use %tb to see the full traceback.\n",
      "\u001b[1;31mSystemExit\u001b[0m\u001b[1;31m:\u001b[0m 1\n"
     ]
    },
    {
     "name": "stderr",
     "output_type": "stream",
     "text": [
      "C:\\Users\\Joe\\Anaconda3\\envs\\pythondata\\lib\\site-packages\\IPython\\core\\interactiveshell.py:2918: UserWarning: To exit: use 'exit', 'quit', or Ctrl-D.\n",
      "  warn(\"To exit: use 'exit', 'quit', or Ctrl-D.\", stacklevel=1)\n"
     ]
    }
   ],
   "source": [
    "if __name__ == '__main__':\n",
    "    app.run(debug=True)"
   ]
  },
  {
   "cell_type": "code",
   "execution_count": null,
   "metadata": {},
   "outputs": [],
   "source": []
  }
 ],
 "metadata": {
  "kernelspec": {
   "display_name": "Python 3",
   "language": "python",
   "name": "python3"
  },
  "language_info": {
   "codemirror_mode": {
    "name": "ipython",
    "version": 3
   },
   "file_extension": ".py",
   "mimetype": "text/x-python",
   "name": "python",
   "nbconvert_exporter": "python",
   "pygments_lexer": "ipython3",
   "version": "3.6.4"
  }
 },
 "nbformat": 4,
 "nbformat_minor": 2
}
